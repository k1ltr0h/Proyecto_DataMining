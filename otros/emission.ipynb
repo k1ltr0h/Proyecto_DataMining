{
 "cells": [
  {
   "cell_type": "code",
   "execution_count": 28,
   "metadata": {},
   "outputs": [
    {
     "name": "stderr",
     "output_type": "stream",
     "text": [
      "C:\\Users\\mrcxp\\Anaconda3\\lib\\site-packages\\IPython\\core\\interactiveshell.py:3063: DtypeWarning: Columns (14) have mixed types.Specify dtype option on import or set low_memory=False.\n",
      "  interactivity=interactivity, compiler=compiler, result=result)\n"
     ]
    },
    {
     "name": "stdout",
     "output_type": "stream",
     "text": [
      "                          Area  Item Code                          Item  \\\n",
      "Area Code                                                                 \n",
      "8          Antigua and Barbuda       1062           Eggs, hen, in shell   \n",
      "8          Antigua and Barbuda       1062           Eggs, hen, in shell   \n",
      "8          Antigua and Barbuda       1062           Eggs, hen, in shell   \n",
      "8          Antigua and Barbuda       1067  Eggs, hen, in shell (number)   \n",
      "8          Antigua and Barbuda       1091    Eggs, other bird, in shell   \n",
      "\n",
      "           Element Code     Element       Unit    Y1961 Y1961F    Y1962  \\\n",
      "Area Code                                                                 \n",
      "8                  5313      Laying  1000 Head     17.0      F     18.0   \n",
      "8                  5410       Yield   100mg/An  55882.0     Fc  55556.0   \n",
      "8                  5510  Production     tonnes     95.0      F    100.0   \n",
      "8                  5513  Production    1000 No   1900.0      F   2000.0   \n",
      "8                  5313      Laying  1000 Head      NaN    NaN      NaN   \n",
      "\n",
      "          Y1962F  ...    Y2014 Y2014F    Y2015 Y2015F    Y2016 Y2016F  \\\n",
      "Area Code         ...                                                   \n",
      "8              F  ...     58.0     Im     58.0     Im     58.0     Im   \n",
      "8             Fc  ...  47146.0     Fc  47165.0     Fc  47009.0     Fc   \n",
      "8              F  ...    272.0     Im    274.0     Im    271.0     Im   \n",
      "8              F  ...   5440.0     Im   5480.0     Im   5414.0     Im   \n",
      "8            NaN  ...      NaN      M      NaN      M      NaN    NaN   \n",
      "\n",
      "             Y2017 Y2017F    Y2018 Y2018F  \n",
      "Area Code                                  \n",
      "8             60.0      F     58.0     Im  \n",
      "8          46667.0     Fc  47082.0     Fc  \n",
      "8            280.0      F    272.0     Im  \n",
      "8           5600.0      F   5443.0     Im  \n",
      "8              NaN    NaN      NaN    NaN  \n",
      "\n",
      "[5 rows x 122 columns]\n"
     ]
    }
   ],
   "source": [
    "import pandas as pd\n",
    "fert = pd.read_csv('./FOFA2050CountryData_Fertilizer-and-emissions/FOFA2050CountryData_Fertilizer-and-emissions.csv', sep=',', index_col=0)\n",
    "macro = pd.read_csv('FOFA2050CountryData_Macro-indicators.csv', sep=',', index_col=0)\n",
    "ganaderia = pd.read_csv('FAOSTAT_ganaderia.csv', sep=',', index_col=0)\n",
    "gdp = pd.read_csv('carbon-emission-intensity-vs-gdp-per-capita.csv', sep=',', index_col=0)\n",
    "fao = pd.read_csv('Production_LivestockPrimary_E_Americas.csv', sep=\",\", index_col=0)\n",
    "#print(ganaderia.head(60)) ##NKP ==> Nitrogeno, Potacio y Fosforo ; GDP==>Producto Interno Bruto GLEAM_Data_public_release\n",
    "#print(ganaderia.tail())\n",
    "print(fao.head())"
   ]
  },
  {
   "cell_type": "code",
   "execution_count": null,
   "metadata": {},
   "outputs": [],
   "source": []
  }
 ],
 "metadata": {
  "kernelspec": {
   "display_name": "Python 3",
   "language": "python",
   "name": "python3"
  },
  "language_info": {
   "codemirror_mode": {
    "name": "ipython",
    "version": 3
   },
   "file_extension": ".py",
   "mimetype": "text/x-python",
   "name": "python",
   "nbconvert_exporter": "python",
   "pygments_lexer": "ipython3",
   "version": "3.7.4"
  }
 },
 "nbformat": 4,
 "nbformat_minor": 4
}
